{
 "cells": [
  {
   "cell_type": "code",
   "execution_count": 1,
   "metadata": {},
   "outputs": [],
   "source": [
    "import pandas as pd\n",
    "\n",
    "df = pd.read_csv(\"/home/tongye/code_generation/pie-perf/data/improvement_pairs_additional_metadata_unpivoted_5_15_23_shuf.csv\")"
   ]
  },
  {
   "cell_type": "code",
   "execution_count": 2,
   "metadata": {},
   "outputs": [
    {
     "data": {
      "text/plain": [
       "Index(['Unnamed: 0', 'user_id', 'problem_id', 'language', 'submission_id',\n",
       "       'cpu_time', 'memory', 'status', 'code', 'improvement_frac',\n",
       "       'code_v0_loc', 'code_v1_loc', 'original_language', 'filename_ext'],\n",
       "      dtype='object')"
      ]
     },
     "execution_count": 2,
     "metadata": {},
     "output_type": "execute_result"
    }
   ],
   "source": [
    "df.columns"
   ]
  },
  {
   "cell_type": "code",
   "execution_count": 3,
   "metadata": {},
   "outputs": [
    {
     "data": {
      "text/html": [
       "<div>\n",
       "<style scoped>\n",
       "    .dataframe tbody tr th:only-of-type {\n",
       "        vertical-align: middle;\n",
       "    }\n",
       "\n",
       "    .dataframe tbody tr th {\n",
       "        vertical-align: top;\n",
       "    }\n",
       "\n",
       "    .dataframe thead th {\n",
       "        text-align: right;\n",
       "    }\n",
       "</style>\n",
       "<table border=\"1\" class=\"dataframe\">\n",
       "  <thead>\n",
       "    <tr style=\"text-align: right;\">\n",
       "      <th></th>\n",
       "      <th>Unnamed: 0</th>\n",
       "      <th>user_id</th>\n",
       "      <th>problem_id</th>\n",
       "      <th>language</th>\n",
       "      <th>submission_id</th>\n",
       "      <th>cpu_time</th>\n",
       "      <th>memory</th>\n",
       "      <th>status</th>\n",
       "      <th>code</th>\n",
       "      <th>improvement_frac</th>\n",
       "      <th>code_v0_loc</th>\n",
       "      <th>code_v1_loc</th>\n",
       "      <th>original_language</th>\n",
       "      <th>filename_ext</th>\n",
       "    </tr>\n",
       "  </thead>\n",
       "  <tbody>\n",
       "    <tr>\n",
       "      <th>0</th>\n",
       "      <td>87684</td>\n",
       "      <td>u596385287</td>\n",
       "      <td>p02549</td>\n",
       "      <td>C++</td>\n",
       "      <td>s464246265</td>\n",
       "      <td>21.0</td>\n",
       "      <td>3928.0</td>\n",
       "      <td>Accepted</td>\n",
       "      <td>#include &lt;bits/stdc++.h&gt;\\n\\n#define REP(i, n) ...</td>\n",
       "      <td>33.33</td>\n",
       "      <td>29.0</td>\n",
       "      <td>25.0</td>\n",
       "      <td>C++ (GCC 9.2.1)</td>\n",
       "      <td>cpp</td>\n",
       "    </tr>\n",
       "    <tr>\n",
       "      <th>1</th>\n",
       "      <td>457467</td>\n",
       "      <td>u675509234</td>\n",
       "      <td>p03262</td>\n",
       "      <td>C++</td>\n",
       "      <td>s114013120</td>\n",
       "      <td>50.0</td>\n",
       "      <td>1024.0</td>\n",
       "      <td>Accepted</td>\n",
       "      <td>#include &lt;bits/stdc++.h&gt;\\n\\nusing namespace st...</td>\n",
       "      <td>25.37</td>\n",
       "      <td>30.0</td>\n",
       "      <td>24.0</td>\n",
       "      <td>C++14 (GCC 5.4.1)</td>\n",
       "      <td>cpp</td>\n",
       "    </tr>\n",
       "  </tbody>\n",
       "</table>\n",
       "</div>"
      ],
      "text/plain": [
       "   Unnamed: 0     user_id problem_id language submission_id  cpu_time  memory  \\\n",
       "0       87684  u596385287     p02549      C++    s464246265      21.0  3928.0   \n",
       "1      457467  u675509234     p03262      C++    s114013120      50.0  1024.0   \n",
       "\n",
       "     status                                               code  \\\n",
       "0  Accepted  #include <bits/stdc++.h>\\n\\n#define REP(i, n) ...   \n",
       "1  Accepted  #include <bits/stdc++.h>\\n\\nusing namespace st...   \n",
       "\n",
       "   improvement_frac  code_v0_loc  code_v1_loc  original_language filename_ext  \n",
       "0             33.33         29.0         25.0    C++ (GCC 9.2.1)          cpp  \n",
       "1             25.37         30.0         24.0  C++14 (GCC 5.4.1)          cpp  "
      ]
     },
     "execution_count": 3,
     "metadata": {},
     "output_type": "execute_result"
    }
   ],
   "source": [
    "df.head(n=2)"
   ]
  },
  {
   "cell_type": "code",
   "execution_count": 4,
   "metadata": {},
   "outputs": [
    {
     "data": {
      "text/plain": [
       "(635678, 14)"
      ]
     },
     "execution_count": 4,
     "metadata": {},
     "output_type": "execute_result"
    }
   ],
   "source": [
    "df.shape"
   ]
  },
  {
   "cell_type": "code",
   "execution_count": 5,
   "metadata": {},
   "outputs": [
    {
     "data": {
      "text/plain": [
       "'#include <bits/stdc++.h>\\n\\nusing namespace std;\\n\\ntypedef long long ll;\\n\\nll gcd(ll a, ll b) {\\n\\n  if (b == 0) return a;\\n\\n  return gcd(b, a % b);\\n\\n}\\n\\nll MAX(ll a,ll b){\\n\\n    if(a>b) return a;\\n\\n    return b;\\n\\n}\\n\\nint main(void){\\n\\n    ll n,x;\\n\\n    cin>>n>>x;\\n\\n    ll a[100001];\\n\\n    for(int i=0;i<n;i++) cin>>a[i];\\n\\n    a[n]=x;\\n\\n    sort(a,a+n+1);\\n\\n    ll z=a[1]-a[0];\\n\\n    for(int i=1;i<n+1;i++){\\n\\n        z=gcd(z,a[i]-a[i-1]);\\n\\n    }\\n\\n    cout<<z;\\n\\n}'"
      ]
     },
     "execution_count": 5,
     "metadata": {},
     "output_type": "execute_result"
    }
   ],
   "source": [
    "df.loc[1, 'code']"
   ]
  }
 ],
 "metadata": {
  "kernelspec": {
   "display_name": "llama",
   "language": "python",
   "name": "python3"
  },
  "language_info": {
   "codemirror_mode": {
    "name": "ipython",
    "version": 3
   },
   "file_extension": ".py",
   "mimetype": "text/x-python",
   "name": "python",
   "nbconvert_exporter": "python",
   "pygments_lexer": "ipython3",
   "version": "3.10.14"
  }
 },
 "nbformat": 4,
 "nbformat_minor": 2
}
