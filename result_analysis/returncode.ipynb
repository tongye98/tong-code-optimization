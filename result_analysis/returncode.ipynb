{
 "cells": [
  {
   "cell_type": "code",
   "execution_count": 5,
   "metadata": {},
   "outputs": [
    {
     "name": "stdout",
     "output_type": "stream",
     "text": [
      "1169\n"
     ]
    }
   ],
   "source": [
    "import os \n",
    "import json\n",
    "from tqdm import tqdm \n",
    "\n",
    "benchmark_dir = \"/largespace/tydata/code_optimization/cpp/saved_models/pie-gem5-by-user-cpp_deepseekcoder-7b_sft_0418/generate/benchmark_gem5_testcases_3\"\n",
    "print(len(os.listdir(benchmark_dir)))"
   ]
  },
  {
   "cell_type": "code",
   "execution_count": 3,
   "metadata": {},
   "outputs": [],
   "source": [
    "def is_answer_correct(input_case_path, stdout_bin):\n",
    "    \"\"\"\n",
    "    check stdout_bin is correct \n",
    "    \"\"\"\n",
    "    output_case_path = input_case_path.replace(\"input\", \"output\")\n",
    "    with open(output_case_path, 'r') as g:\n",
    "        truth = g.read().strip()\n",
    "    \n",
    "    ground_truth_lines = truth.strip().splitlines()\n",
    "    output_lines = stdout_bin.strip().splitlines()\n",
    "\n",
    "    IsCorrect = True\n",
    "    for gen_output, ground_truth_output in zip(output_lines, ground_truth_lines):\n",
    "        is_corr = gen_output == ground_truth_output\n",
    "        if not is_corr:\n",
    "            try:\n",
    "                gen_output = float(gen_output)\n",
    "                ground_truth_output = float(ground_truth_output)\n",
    "                is_corr = abs(gen_output - ground_truth_output) < 1e-3\n",
    "            except:\n",
    "                pass\n",
    "        \n",
    "        if not is_corr:\n",
    "            IsCorrect = False\n",
    "    \n",
    "    return IsCorrect"
   ]
  },
  {
   "cell_type": "code",
   "execution_count": 6,
   "metadata": {},
   "outputs": [],
   "source": [
    "def benchmark_postprocess(test_binary_benchmark_dir):\n",
    "    # for each test binary benchmark dir\n",
    "    benchmark_results_path = \"testcases_3_benchmark_results.json\"\n",
    "    with open(os.path.join(test_binary_benchmark_dir, benchmark_results_path), 'r') as f:\n",
    "        results = json.load(f)\n",
    "    \n",
    "    final_result = {\n",
    "        \"binary_exec_right_and_gem5_right\":{\"testcases_id\": [],\"binary_exec_right_and_gem5_right_and_answer_correct\":[], \"binary_exec_right_and_gem5_right_and_answer_wrong\":[]},\n",
    "        \"binary_exec_right_and_gem5_wrong\":[],\n",
    "        \"binary_exec_wrong_and_gem5_right\":[],\n",
    "        \"binary_exec_wrong_and_gem5_wrong\":[],\n",
    "        \"testcases_number\": 0\n",
    "    }\n",
    "\n",
    "    for testcase_result in results:\n",
    "        returncode_bin = testcase_result[\"returncode_bin\"]\n",
    "        returncode_gem5 = testcase_result[\"returncode_gem5\"]\n",
    "        test_case_id = int(testcase_result[\"test_case_id\"])\n",
    "        \n",
    "        if returncode_bin == 0 and returncode_gem5 == 0:\n",
    "            final_result[\"binary_exec_right_and_gem5_right\"][\"testcases_id\"].append(test_case_id)\n",
    "            Is_answer_correct = is_answer_correct(testcase_result[\"input_case_path\"], testcase_result[\"stdout_bin\"])\n",
    "            if Is_answer_correct:\n",
    "                final_result[\"binary_exec_right_and_gem5_right\"][\"binary_exec_right_and_gem5_right_and_answer_correct\"].append(test_case_id)\n",
    "            else:\n",
    "                final_result[\"binary_exec_right_and_gem5_right\"][\"binary_exec_right_and_gem5_right_and_answer_wrong\"].append(test_case_id)\n",
    "        elif returncode_bin == 0 and returncode_gem5 != 0:\n",
    "            final_result[\"binary_exec_right_and_gem5_wrong\"].append(test_case_id)\n",
    "        elif returncode_bin != 0 and returncode_gem5 == 0:\n",
    "            final_result[\"binary_exec_wrong_and_gem5_right\"].append(test_case_id)\n",
    "        else:\n",
    "            final_result[\"binary_exec_wrong_and_gem5_wrong\"].append(test_case_id)\n",
    "        \n",
    "        final_result[\"testcases_number\"] += 1\n",
    "\n",
    "    with open(os.path.join(test_binary_benchmark_dir, \"analysis_result.json\"), 'w') as gg:\n",
    "        json.dump(final_result, gg, indent=4)\n",
    "\n",
    "    return None"
   ]
  },
  {
   "cell_type": "code",
   "execution_count": 7,
   "metadata": {},
   "outputs": [
    {
     "name": "stderr",
     "output_type": "stream",
     "text": [
      "100%|██████████| 1169/1169 [00:00<00:00, 4716.70it/s]\n"
     ]
    }
   ],
   "source": [
    "test_benchmark_store_path = \"/largespace/tydata/code_optimization/cpp/saved_models/pie-gem5-by-user-cpp_deepseekcoder-7b_sft_0418/generate/benchmark_gem5_testcases_3\"\n",
    "generate_benchmarks = os.listdir(test_benchmark_store_path)\n",
    "# test_binary_benchmark_dir = os.path.join(test_benchmark_store_path, \"p01717\", \"u923320778\", \"s651875974\")\n",
    "# benchmark_postprocess(test_binary_benchmark_dir)\n",
    "\n",
    "for each_generate in tqdm(generate_benchmarks):\n",
    "    each_generate_path = os.path.join(test_benchmark_store_path, each_generate)\n",
    "    benchmark_postprocess(each_generate_path)"
   ]
  },
  {
   "cell_type": "code",
   "execution_count": 8,
   "metadata": {},
   "outputs": [],
   "source": [
    "def result_statistics(analysis_result):\n",
    "    with open(analysis_result, 'r') as f:\n",
    "        data = json.load(f)\n",
    "    \n",
    "    count = len(data[\"binary_exec_right_and_gem5_right\"][\"binary_exec_right_and_gem5_right_and_answer_correct\"])\n",
    "    if count == data[\"testcases_number\"]:\n",
    "        return True\n",
    "    else:\n",
    "        return False"
   ]
  },
  {
   "cell_type": "code",
   "execution_count": 10,
   "metadata": {},
   "outputs": [
    {
     "name": "stderr",
     "output_type": "stream",
     "text": [
      "100%|██████████| 1169/1169 [00:00<00:00, 41674.60it/s]"
     ]
    },
    {
     "name": "stdout",
     "output_type": "stream",
     "text": [
      "all right count = 551\n"
     ]
    },
    {
     "name": "stderr",
     "output_type": "stream",
     "text": [
      "\n"
     ]
    }
   ],
   "source": [
    "count_all_right = 0\n",
    "all_right_binary = []\n",
    "for each_generate in tqdm(generate_benchmarks):\n",
    "    each_generate_path = os.path.join(test_benchmark_store_path, each_generate)\n",
    "    result = result_statistics(os.path.join(each_generate_path, \"analysis_result.json\"))\n",
    "    if result:\n",
    "        count_all_right += 1\n",
    "        binary = os.path.join(f\"{each_generate}_maybe_faster.out\")\n",
    "        all_right_binary.append(binary)\n",
    "\n",
    "print(f\"all right count = {count_all_right}\")\n",
    "with open(os.path.join(\"/largespace/tydata/code_optimization/cpp/saved_models/pie-gem5-by-user-cpp_deepseekcoder-7b_sft_0418/generate/generate_all_right.txt\"), 'w') as f:\n",
    "    for item in all_right_binary:\n",
    "        f.write(item + '\\n')"
   ]
  },
  {
   "cell_type": "code",
   "execution_count": 26,
   "metadata": {},
   "outputs": [],
   "source": [
    "def calculate_sim_seconds(stats):\n",
    "    # more accurate than sim_seconds\n",
    "    return float(stats[\"sim_ticks\"]) / float(stats[\"sim_freq\"])"
   ]
  },
  {
   "cell_type": "code",
   "execution_count": 27,
   "metadata": {},
   "outputs": [],
   "source": [
    "import re\n",
    "import ast\n",
    "def parse_stats_txt(gem5_stats_path):\n",
    "    with open(gem5_stats_path, 'r') as f:\n",
    "        stats_lines = f.readlines()\n",
    "    \n",
    "    stats = {}\n",
    "    for line in stats_lines:\n",
    "        if line.strip() == '':\n",
    "            continue \n",
    "        if \"Begin\" in line:\n",
    "            continue\n",
    "        if \"End\" in line:\n",
    "            continue\n",
    "        line = re.sub(\"#.*\", \"\", line).strip() # remove comments\n",
    "        parts = line.split()\n",
    "        parts = [part.strip() for part in parts]\n",
    "        if len(parts) > 2:\n",
    "            value = parts[1:]\n",
    "        elif len(parts) == 2:\n",
    "            value = parts[1]\n",
    "        else:\n",
    "            print(f\"could not parse line {line}\")\n",
    "            continue\n",
    "        key = parts[0]\n",
    "        if isinstance(value, str):\n",
    "            try:\n",
    "                value = value.replace(\"%\", \"\").replace(\"nan\", \"None\").replace(\"inf\", \"None\").replace(\"-inf\", \"None\")\n",
    "                value = ast.literal_eval(value) if value != \"None\" else None\n",
    "            except:\n",
    "                print(f\"could not parse value {value} for key {key}\")\n",
    "        elif isinstance(value, list):\n",
    "            try:\n",
    "                value = [v.replace(\"%\", \"\").replace(\"nan\", \"None\").replace(\"inf\", \"None\").replace(\"-inf\", \"None\") for v in value]\n",
    "                value = [ast.literal_eval(v) if v!= \"None\" else None for v in value]\n",
    "            except:\n",
    "                print(f\"could not parse value {value} for key {key}\")\n",
    "        \n",
    "        stats[key] = value\n",
    "    stats[\"sim_seconds_precise\"] = calculate_sim_seconds(stats)\n",
    "    return stats"
   ]
  },
  {
   "cell_type": "code",
   "execution_count": 40,
   "metadata": {},
   "outputs": [],
   "source": [
    "import glob\n",
    "def get_average_time(binary):\n",
    "    bin_file_path = os.path.join(binary)\n",
    "\n",
    "    base_path = \"/largespace/tydata/code_optimization/cpp/saved_models/pie-gem5-by-user-cpp_deepseekcoder-7b_sft_0418/generate/benchmark_gem5_testcases_3\"\n",
    "    testcases_path = os.path.join(base_path, bin_file_path)\n",
    "    sim_seconds_precise_all = []\n",
    "    gem5_stats = glob.glob(testcases_path + \"/gem5_stats.*.txt\")\n",
    "    for gem5_stat in gem5_stats:\n",
    "        stats = parse_stats_txt(gem5_stat)\n",
    "        sim_seconds_precise = stats[\"sim_seconds_precise\"]\n",
    "        sim_seconds_precise_all.append(sim_seconds_precise)\n",
    "\n",
    "    if len(sim_seconds_precise_all) != 0:\n",
    "        return sum(sim_seconds_precise_all) / len(sim_seconds_precise_all)\n",
    "    else:\n",
    "        return 820"
   ]
  },
  {
   "cell_type": "code",
   "execution_count": 41,
   "metadata": {},
   "outputs": [
    {
     "name": "stderr",
     "output_type": "stream",
     "text": [
      "100%|██████████| 551/551 [00:26<00:00, 21.13it/s]\n"
     ]
    }
   ],
   "source": [
    "with open(os.path.join(\"/largespace/tydata/code_optimization/cpp/saved_models/pie-gem5-by-user-cpp_deepseekcoder-7b_sft_0418/generate/generate_all_right.txt\"), 'r') as f:\n",
    "    binarys = f.read().splitlines()\n",
    "\n",
    "results = {}\n",
    "for binary in tqdm(binarys):\n",
    "    binary_solo = binary.replace(\"_maybe_faster.out\", \"\")\n",
    "    average_sim_seconds_precise = get_average_time(binary_solo)\n",
    "    \n",
    "    results[binary] = average_sim_seconds_precise\n",
    "\n",
    "with open(\"/largespace/tydata/code_optimization/cpp/saved_models/pie-gem5-by-user-cpp_deepseekcoder-7b_sft_0418/generate/average_time_tesecases3.json\", 'w') as f:\n",
    "    json.dump(results, f, indent=4)"
   ]
  },
  {
   "cell_type": "code",
   "execution_count": 58,
   "metadata": {},
   "outputs": [],
   "source": [
    "def relative_improve(slow:float, fast:float):\n",
    "    return round((slow - fast) / slow, 4)"
   ]
  },
  {
   "cell_type": "code",
   "execution_count": 61,
   "metadata": {},
   "outputs": [
    {
     "name": "stdout",
     "output_type": "stream",
     "text": [
      "correct: 551\n",
      "opt count: 335\n",
      "Speedup in 551 is : 2.8660998185117985\n",
      "1.8795731394354156\n"
     ]
    }
   ],
   "source": [
    "count = 0\n",
    "opt_count = 0\n",
    "speedups = []\n",
    "with open(\"/largespace/tydata/code_optimization/cpp/saved_models/pie-gem5-by-user-cpp_deepseekcoder-7b_sft_0418/generate/final_results.json\", 'r') as f:\n",
    "    originals = json.load(f)\n",
    "for each_original in originals:\n",
    "    problem_id = each_original[\"problem_id\"]\n",
    "    user_id = each_original[\"user_id\"]\n",
    "    slow_submission_id = each_original[\"slow_submission_id\"]\n",
    "    fast_submission_id = each_original[\"fast_submission_id\"]\n",
    "    slow_time = each_original[\"slow_time\"]\n",
    "    identifier = f\"{problem_id}_{user_id}_{slow_submission_id}_{fast_submission_id}_maybe_faster.out\"\n",
    "    if identifier in results:\n",
    "        count += 1\n",
    "        maybe_faster_time = float(results[identifier])\n",
    "        speedup = round(slow_time / maybe_faster_time, 4)\n",
    "        if speedup < 1: \n",
    "            speedup = 1.0\n",
    "        \n",
    "        if relative_improve(slow_time, maybe_faster_time) >  0.1:\n",
    "            opt_count += 1\n",
    "\n",
    "        speedups.append(speedup)\n",
    "\n",
    "        \n",
    "print(f\"correct: {count}\")\n",
    "print(f\"opt count: {opt_count}\")\n",
    "print(f\"Speedup in {count} is : {sum(speedups)/len(speedups)}\")\n",
    "length = len(speedups)\n",
    "print((sum(speedups) + (1169-length)) / 1169)"
   ]
  }
 ],
 "metadata": {
  "kernelspec": {
   "display_name": "llama",
   "language": "python",
   "name": "python3"
  },
  "language_info": {
   "codemirror_mode": {
    "name": "ipython",
    "version": 3
   },
   "file_extension": ".py",
   "mimetype": "text/x-python",
   "name": "python",
   "nbconvert_exporter": "python",
   "pygments_lexer": "ipython3",
   "version": "3.10.14"
  }
 },
 "nbformat": 4,
 "nbformat_minor": 2
}
