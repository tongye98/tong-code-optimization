{
 "cells": [
  {
   "cell_type": "code",
   "execution_count": 2,
   "metadata": {},
   "outputs": [],
   "source": [
    "import os \n",
    "import json "
   ]
  },
  {
   "cell_type": "code",
   "execution_count": 3,
   "metadata": {},
   "outputs": [
    {
     "name": "stdout",
     "output_type": "stream",
     "text": [
      "/largespace/tydata/code_optimization/cpp/dataset/by_user/test_out_pair_in_original_description.json\n"
     ]
    }
   ],
   "source": [
    "data_path = \"/largespace/tydata/code_optimization/cpp/dataset/by_user/test_out_pair_in_original_description.json\"\n",
    "print(data_path)"
   ]
  },
  {
   "cell_type": "code",
   "execution_count": 4,
   "metadata": {},
   "outputs": [
    {
     "name": "stdout",
     "output_type": "stream",
     "text": [
      "The size of dataset = 1422\n"
     ]
    }
   ],
   "source": [
    "with open(data_path, 'r') as reader:\n",
    "    dataset = json.load(reader)\n",
    "\n",
    "print(f\"The size of dataset = {len(dataset)}\")"
   ]
  },
  {
   "cell_type": "code",
   "execution_count": 5,
   "metadata": {},
   "outputs": [],
   "source": [
    "def for_rank(item):\n",
    "    problem_description = item[\"problem_description\"]\n",
    "    slow_code = item[\"slow_code\"]\n",
    "    fast_code = item[\"fast_code\"]\n",
    "    new_item = {\n",
    "        \"problem_description\": problem_description,\n",
    "        \"code_solution\": [fast_code, slow_code],\n",
    "        \"system\": \"\"\n",
    "    }\n",
    "    return new_item"
   ]
  },
  {
   "cell_type": "code",
   "execution_count": 6,
   "metadata": {},
   "outputs": [
    {
     "name": "stderr",
     "output_type": "stream",
     "text": [
      "100%|██████████| 1422/1422 [00:00<00:00, 357872.33it/s]"
     ]
    },
    {
     "name": "stderr",
     "output_type": "stream",
     "text": [
      "\n"
     ]
    }
   ],
   "source": [
    "from tqdm import tqdm \n",
    "new_items = []\n",
    "for item in tqdm(dataset):\n",
    "    new_item = for_rank(item)\n",
    "    new_items.append(new_item)\n",
    "\n",
    "with open(\"/largespace/tydata/code_optimization/cpp/dataset/by_user/test_out_pair_in_original_description_dpo.json\", 'w') as writer:\n",
    "    json.dump(new_items, writer, indent=4)"
   ]
  }
 ],
 "metadata": {
  "kernelspec": {
   "display_name": "llama",
   "language": "python",
   "name": "python3"
  },
  "language_info": {
   "codemirror_mode": {
    "name": "ipython",
    "version": 3
   },
   "file_extension": ".py",
   "mimetype": "text/x-python",
   "name": "python",
   "nbconvert_exporter": "python",
   "pygments_lexer": "ipython3",
   "version": "3.10.14"
  }
 },
 "nbformat": 4,
 "nbformat_minor": 2
}
