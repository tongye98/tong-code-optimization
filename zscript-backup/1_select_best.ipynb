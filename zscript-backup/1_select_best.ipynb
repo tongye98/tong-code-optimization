{
 "cells": [
  {
   "cell_type": "code",
   "execution_count": 4,
   "metadata": {},
   "outputs": [
    {
     "name": "stdout",
     "output_type": "stream",
     "text": [
      "4835\n"
     ]
    }
   ],
   "source": [
    "import os \n",
    "import json \n",
    "import re \n",
    "\n",
    "generated_model_name = \"pie-gem5-by-user-cpp-problem_codellama-13b_sft_0420\"\n",
    "gem5_testcases_name = \"benchmark_gem5_testcases_3\"\n",
    "benchmark_dir = f\"/largespace/tydata/code_optimization/cpp/saved_models/{generated_model_name}/generate4/generate_out/\"\n",
    "print(len(os.listdir(benchmark_dir)))\n"
   ]
  },
  {
   "cell_type": "code",
   "execution_count": 5,
   "metadata": {},
   "outputs": [
    {
     "name": "stdout",
     "output_type": "stream",
     "text": [
      "There are 1352 unique binary name.\n"
     ]
    }
   ],
   "source": [
    "binary_name_set = set()\n",
    "\n",
    "for binary in os.listdir(benchmark_dir):\n",
    "    pattern_problem_id = r'p\\d+'\n",
    "    pattern_submission_id = r's\\d+'\n",
    "    pattern_user_id = r'u\\d+'\n",
    "    pattern_sample_id = r'faster_\\d+'\n",
    "\n",
    "    problem_id = re.findall(pattern_problem_id, binary)[0]\n",
    "    submission_id_two = re.findall(pattern_submission_id, binary)\n",
    "    slow_submission_id = submission_id_two[0]\n",
    "    fast_submission_id = submission_id_two[1]\n",
    "    user_id = re.findall(pattern_user_id, binary)[0]\n",
    "    sample_id = re.findall(pattern_sample_id, binary)[0]\n",
    "\n",
    "    binary_name = f\"{problem_id}_{user_id}_{slow_submission_id}_{fast_submission_id}\"\n",
    "    binary_name_set.add(binary_name)\n",
    "\n",
    "print(f\"There are {len(binary_name_set)} unique binary name.\")"
   ]
  },
  {
   "cell_type": "code",
   "execution_count": 12,
   "metadata": {},
   "outputs": [],
   "source": [
    "def result_statistics(analysis_result):\n",
    "    with open(analysis_result, 'r') as f:\n",
    "        data = json.load(f)\n",
    "    \n",
    "    flag_exec_right_gem5_right = False\n",
    "    flag_all_right = False\n",
    "\n",
    "    count_exec_right_gem5_right = len(data[\"binary_exec_right_and_gem5_right\"][\"testcases_id\"])\n",
    "    if count_exec_right_gem5_right == data[\"testcases_number\"]:\n",
    "        flag_exec_right_gem5_right = True\n",
    "\n",
    "    count_all_right = len(data[\"binary_exec_right_and_gem5_right\"][\"binary_exec_right_and_gem5_right_and_answer_correct\"])\n",
    "    if count_all_right == data[\"testcases_number\"]:\n",
    "        flag_all_right = True\n",
    "    \n",
    "    return (flag_exec_right_gem5_right, flag_all_right)"
   ]
  },
  {
   "cell_type": "code",
   "execution_count": 17,
   "metadata": {},
   "outputs": [],
   "source": [
    "def calculate_sim_seconds(stats):\n",
    "    # more accurate than sim_seconds\n",
    "    return float(stats[\"sim_ticks\"]) / float(stats[\"sim_freq\"])"
   ]
  },
  {
   "cell_type": "code",
   "execution_count": 18,
   "metadata": {},
   "outputs": [],
   "source": [
    "import re\n",
    "import ast\n",
    "def parse_stats_txt(gem5_stats_path):\n",
    "    with open(gem5_stats_path, 'r') as f:\n",
    "        stats_lines = f.readlines()\n",
    "    \n",
    "    stats = {}\n",
    "    for line in stats_lines:\n",
    "        if line.strip() == '':\n",
    "            continue \n",
    "        if \"Begin\" in line:\n",
    "            continue\n",
    "        if \"End\" in line:\n",
    "            continue\n",
    "        line = re.sub(\"#.*\", \"\", line).strip() # remove comments\n",
    "        parts = line.split()\n",
    "        parts = [part.strip() for part in parts]\n",
    "        if len(parts) > 2:\n",
    "            value = parts[1:]\n",
    "        elif len(parts) == 2:\n",
    "            value = parts[1]\n",
    "        else:\n",
    "            print(f\"could not parse line {line}\")\n",
    "            continue\n",
    "        key = parts[0]\n",
    "        if isinstance(value, str):\n",
    "            try:\n",
    "                value = value.replace(\"%\", \"\").replace(\"nan\", \"None\").replace(\"inf\", \"None\").replace(\"-inf\", \"None\")\n",
    "                value = ast.literal_eval(value) if value != \"None\" else None\n",
    "            except:\n",
    "                print(f\"could not parse value {value} for key {key}\")\n",
    "        elif isinstance(value, list):\n",
    "            try:\n",
    "                value = [v.replace(\"%\", \"\").replace(\"nan\", \"None\").replace(\"inf\", \"None\").replace(\"-inf\", \"None\") for v in value]\n",
    "                value = [ast.literal_eval(v) if v!= \"None\" else None for v in value]\n",
    "            except:\n",
    "                print(f\"could not parse value {value} for key {key}\")\n",
    "        \n",
    "        stats[key] = value\n",
    "    stats[\"sim_seconds_precise\"] = calculate_sim_seconds(stats)\n",
    "    return stats"
   ]
  },
  {
   "cell_type": "code",
   "execution_count": 20,
   "metadata": {},
   "outputs": [],
   "source": [
    "import glob\n",
    "def get_average_time(each_maybe_fast_sample):\n",
    "    gem5_stats = glob.glob(each_maybe_fast_sample + \"/gem5_stats.*.txt\")\n",
    "    sim_seconds_precise_all = []\n",
    "    for gem5_stat in gem5_stats:\n",
    "        stats = parse_stats_txt(gem5_stat)\n",
    "        sim_seconds_precise = stats[\"sim_seconds_precise\"]\n",
    "        sim_seconds_precise_all.append(sim_seconds_precise)\n",
    "\n",
    "    if len(sim_seconds_precise_all) != 0:\n",
    "        return sum(sim_seconds_precise_all) / len(sim_seconds_precise_all)\n",
    "    else:\n",
    "        return 820"
   ]
  },
  {
   "cell_type": "code",
   "execution_count": 25,
   "metadata": {},
   "outputs": [],
   "source": [
    "def compute_time(can_pass_all_testcase):\n",
    "    time_result = []\n",
    "    for each_maybe_fast_sample in can_pass_all_testcase:\n",
    "        average_time = get_average_time(each_maybe_fast_sample)\n",
    "        time_result.append({\"name\":each_maybe_fast_sample, \"average_time\":average_time})\n",
    "\n",
    "    return time_result"
   ]
  },
  {
   "cell_type": "code",
   "execution_count": 30,
   "metadata": {},
   "outputs": [
    {
     "name": "stderr",
     "output_type": "stream",
     "text": [
      "100%|██████████| 1352/1352 [03:36<00:00,  6.25it/s]"
     ]
    },
    {
     "name": "stdout",
     "output_type": "stream",
     "text": [
      "There are 1344 valid binary name.\n",
      "There are 1344 in dictionary.\n"
     ]
    },
    {
     "name": "stderr",
     "output_type": "stream",
     "text": [
      "\n"
     ]
    }
   ],
   "source": [
    "import glob\n",
    "from tqdm import tqdm\n",
    "valid_binary_name_count = 0\n",
    "selected = dict()\n",
    "for binary_name in tqdm(binary_name_set):\n",
    "    # binary_name p00056_u155634813_s704265359_s598602018\n",
    "    samples = glob.glob(os.path.join(benchmark_dir, f\"{binary_name}_maybe_faster_*.out\"))\n",
    "    can_pass_all_testcase = []\n",
    "    #print(samples)\n",
    "    for sample in samples:\n",
    "        # sample /largespace/tydata/code_optimization/cpp/saved_models/pie-gem5-by-user-cpp-problem_codellama-13b_sft_0420/generate4/generate_out/p02714_u280802329_s680015951_s233802530_maybe_faster_1.out\n",
    "        sample = sample.replace(\"generate_out\", \"benchmark_gem5_testcases_3\")\n",
    "        sample = sample.replace(\"faster\", \"faster_faster\")\n",
    "        sample = sample.replace(\".out\", \"\")\n",
    "\n",
    "        (flag_exec_right_gem5_right, _) = result_statistics(os.path.join(sample, \"analysis_result.json\"))\n",
    "        if flag_exec_right_gem5_right:\n",
    "            can_pass_all_testcase.append(sample)\n",
    "    \n",
    "    if len(can_pass_all_testcase) > 0:\n",
    "        valid_binary_name_count += 1\n",
    "        # compare which one fast\n",
    "        time_result = compute_time(can_pass_all_testcase)\n",
    "        # print(time_result)\n",
    "        sorted_time_result = sorted(time_result, key=lambda x: x['average_time'])\n",
    "        # print(sorted_time_result)\n",
    "        best_fast = sorted_time_result[0]\n",
    "        selected[binary_name] = best_fast[\"name\"]\n",
    "\n",
    "\n",
    "print(f\"There are {valid_binary_name_count} valid binary name.\")\n",
    "print(f\"There are {len(selected)} in dictionary.\")\n",
    "with open(f\"/largespace/tydata/code_optimization/cpp/saved_models/{generated_model_name}/generate4/selected_fast.json\", 'w') as writer:\n",
    "    json.dump(selected, writer, indent=4)\n",
    "\n",
    "\n"
   ]
  },
  {
   "cell_type": "code",
   "execution_count": 41,
   "metadata": {},
   "outputs": [
    {
     "name": "stderr",
     "output_type": "stream",
     "text": [
      "100%|██████████| 1344/1344 [00:00<00:00, 49854.03it/s]"
     ]
    },
    {
     "name": "stdout",
     "output_type": "stream",
     "text": [
      "correct num = 554\n"
     ]
    },
    {
     "name": "stderr",
     "output_type": "stream",
     "text": [
      "\n"
     ]
    }
   ],
   "source": [
    "with open(f\"/largespace/tydata/code_optimization/cpp/saved_models/{generated_model_name}/generate4/selected_fast.json\", 'r') as reader:\n",
    "    selected_fast = json.load(reader)\n",
    "\n",
    "correct = 0\n",
    "all_right = []\n",
    "for test_problem, benchmark_path in tqdm(selected_fast.items()):\n",
    "    # print(test_problem)\n",
    "    # print(benchmark_path)\n",
    "    (flag_exec_right_gem5_right, flag_all_right) = result_statistics(os.path.join(benchmark_path, \"analysis_result.json\"))\n",
    "    assert flag_exec_right_gem5_right is True\n",
    "    if flag_all_right:\n",
    "        correct += 1\n",
    "        all_right.append(benchmark_path)\n",
    "\n",
    "print(f\"correct num = {correct}\")\n",
    "with open(os.path.join(f\"/largespace/tydata/code_optimization/cpp/saved_models/{generated_model_name}/generate4/generate_all_right.txt\"), 'w') as f:\n",
    "    for item in all_right:\n",
    "        f.write(item + '\\n')"
   ]
  },
  {
   "cell_type": "code",
   "execution_count": 49,
   "metadata": {},
   "outputs": [
    {
     "name": "stderr",
     "output_type": "stream",
     "text": [
      "100%|██████████| 554/554 [00:25<00:00, 21.53it/s]\n"
     ]
    }
   ],
   "source": [
    "with open(os.path.join(f\"/largespace/tydata/code_optimization/cpp/saved_models/{generated_model_name}/generate4/generate_all_right.txt\"), 'r') as f:\n",
    "    binarys = f.read().splitlines()\n",
    "\n",
    "results = {}\n",
    "for binary in tqdm(binarys):\n",
    "    pattern_problem_id = r'p\\d+'\n",
    "    pattern_submission_id = r's\\d+'\n",
    "    pattern_user_id = r'u\\d+'\n",
    "    pattern_sample_id = r'faster_\\d+'\n",
    "\n",
    "    problem_id = re.findall(pattern_problem_id, binary)[0]\n",
    "    submission_id_two = re.findall(pattern_submission_id, binary)\n",
    "    slow_submission_id = submission_id_two[0]\n",
    "    fast_submission_id = submission_id_two[1]\n",
    "    user_id = re.findall(pattern_user_id, binary)[0]\n",
    "    sample_id = re.findall(pattern_sample_id, binary)[0]\n",
    "\n",
    "    binary_name = f\"{problem_id}_{user_id}_{slow_submission_id}_{fast_submission_id}\"\n",
    "\n",
    "    average_sim_seconds_precise = get_average_time(binary)\n",
    "    results[binary_name] = average_sim_seconds_precise\n",
    "\n",
    "with open(f\"/largespace/tydata/code_optimization/cpp/saved_models/{generated_model_name}/generate4/average_time_tesecases3.json\", 'w') as f:\n",
    "    json.dump(results, f, indent=4)"
   ]
  },
  {
   "cell_type": "code",
   "execution_count": 50,
   "metadata": {},
   "outputs": [],
   "source": [
    "def relative_improve(slow:float, fast:float):\n",
    "    return round((slow - fast) / slow, 4)"
   ]
  },
  {
   "cell_type": "code",
   "execution_count": 53,
   "metadata": {},
   "outputs": [
    {
     "name": "stdout",
     "output_type": "stream",
     "text": [
      "all correct count: 554\n",
      "cannot speedup: 59\n",
      "can speedup: 495\n",
      "--------------------\n",
      "can improvement 10 count: 371\n",
      "cannot improvement 10 count: 124\n",
      "--------------------\n",
      "2.029269791666665\n"
     ]
    }
   ],
   "source": [
    "count = 0\n",
    "can_improvement_10_count = 0\n",
    "cannot_improvement_10_count = 0\n",
    "can_speedup_count = 0\n",
    "cannot_speedup_count = 0\n",
    "speedups_all = []\n",
    "can_speedups = []\n",
    "speedup = 0\n",
    "\n",
    "with open(f\"/largespace/tydata/code_optimization/cpp/saved_models/{generated_model_name}/generate4/average_time_tesecases3.json\", 'r') as gg:\n",
    "    results = json.load(gg)\n",
    "\n",
    "with open(f\"/largespace/tydata/code_optimization/cpp/saved_models/{generated_model_name}/generate4/merge_generates.json\", 'r') as f:\n",
    "    originals = json.load(f)\n",
    "for each_original in originals:\n",
    "    problem_id = each_original[\"problem_id\"]\n",
    "    user_id = each_original[\"user_id\"]\n",
    "    slow_submission_id = each_original[\"slow_submission_id\"]\n",
    "    fast_submission_id = each_original[\"fast_submission_id\"]\n",
    "    slow_time = each_original[\"slow_time\"]\n",
    "    identifier = f\"{problem_id}_{user_id}_{slow_submission_id}_{fast_submission_id}\"\n",
    "    if identifier in results:\n",
    "        count += 1\n",
    "        maybe_faster_time = float(results[identifier])\n",
    "\n",
    "        if maybe_faster_time < slow_time: #can speedup\n",
    "            can_speedups.append(round(slow_time/maybe_faster_time, 4))\n",
    "            can_speedup_count += 1\n",
    "            if relative_improve(slow_time, maybe_faster_time) > 0.1:\n",
    "                can_improvement_10_count += 1\n",
    "            else:\n",
    "                cannot_improvement_10_count += 1\n",
    "        else: # cannot speedup \n",
    "            cannot_speedup_count += 1\n",
    "\n",
    "\n",
    "print(f\"all correct count: {count}\")\n",
    "print(f\"cannot speedup: {cannot_speedup_count}\")\n",
    "print(f\"can speedup: {can_speedup_count}\")\n",
    "print(f\"-\"*20)\n",
    "print(f\"can improvement 10 count: {can_improvement_10_count}\")\n",
    "print(f\"cannot improvement 10 count: {cannot_improvement_10_count}\")\n",
    "print(f\"-\"*20)\n",
    "\n",
    "final_speedup = (sum(can_speedups) + 59*1.0+ 790*1.0) / 1344\n",
    "print(f\"{final_speedup}\")\n"
   ]
  }
 ],
 "metadata": {
  "kernelspec": {
   "display_name": "llama",
   "language": "python",
   "name": "python3"
  },
  "language_info": {
   "codemirror_mode": {
    "name": "ipython",
    "version": 3
   },
   "file_extension": ".py",
   "mimetype": "text/x-python",
   "name": "python",
   "nbconvert_exporter": "python",
   "pygments_lexer": "ipython3",
   "version": "3.10.14"
  }
 },
 "nbformat": 4,
 "nbformat_minor": 2
}
