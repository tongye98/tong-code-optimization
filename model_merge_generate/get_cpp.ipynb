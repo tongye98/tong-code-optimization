{
 "cells": [
  {
   "cell_type": "code",
   "execution_count": 3,
   "metadata": {},
   "outputs": [],
   "source": [
    "import os \n",
    "import json"
   ]
  },
  {
   "cell_type": "code",
   "execution_count": 4,
   "metadata": {},
   "outputs": [
    {
     "name": "stdout",
     "output_type": "stream",
     "text": [
      "There are 1422 generates.\n"
     ]
    }
   ],
   "source": [
    "generate_path = \"/largespace/tydata/code_optimization/cpp/saved_models/pie-gem5-by-user-cpp_deepseekcoder-7b_ft_0418/generate/generated_predictions.jsonl\"\n",
    "generates = []\n",
    "with open(generate_path, 'r') as f:\n",
    "    for line in f:\n",
    "        item = json.loads(line)\n",
    "        generates.append(item)\n",
    "\n",
    "print(f\"There are {len(generates)} generates.\")"
   ]
  },
  {
   "cell_type": "code",
   "execution_count": 5,
   "metadata": {},
   "outputs": [
    {
     "name": "stdout",
     "output_type": "stream",
     "text": [
      "There are 1422 test dataset points.\n",
      "{'problem_id': 'p03275', 'user_id': 'u018679195', 'slow_submission_id': 's623136798', 'fast_submission_id': 's784743451', 'slow_time': 0.0010315986724999996, 'fast_time': 0.0010169462242500004, 'improvement': 0.0142, 'slow_code': '#include<iostream>\\n\\n#include<cstdio>\\n\\n#include<map>\\n\\n#include<algorithm>\\n\\nusing namespace std;\\n\\nconst int MAXN = 100010;\\n\\nlong long sum[MAXN];\\n\\nint a[MAXN],aa[MAXN],b[MAXN],c[MAXN];\\n\\nint n;\\n\\nint lowbit(int x){return x&(-x);}\\n\\nvoid update(int x,int n){\\n\\n\\tfor (int i=x;i<=n;i+=lowbit(i)) {\\n\\n\\t\\tsum[i]++;\\n\\n\\t}\\n\\n}\\n\\nint getSum(int x) {\\n\\n\\tint ans = 0;\\n\\n\\tfor (int i=x;i>0;i-=lowbit(i)) {\\n\\n\\t\\tans += sum[i];\\n\\n\\t}\\n\\n\\treturn ans;\\n\\n}\\n\\nlong long check(int x) {\\n\\n\\tb[0] = 0;c[0] = 0;\\n\\n\\tfor (int i=1;i<=n;i++) {\\n\\n\\t\\tif (a[i]<=x) b[i] = 1;\\n\\n\\t\\telse b[i] = -1;\\n\\n\\t}\\n\\n\\tfor (int i=1;i<=n;i++) {\\n\\n\\t\\tb[i] = b[i-1] + b[i];\\n\\n\\t\\tc[i] = b[i];\\n\\n\\t}\\n\\n\\tsort(c,c+1+n);\\n\\n\\tint cnt = 1;\\n\\n\\tmap<int,int> mp;\\n\\n\\tmp[c[0]] = 1;\\n\\n\\tfor (int i=1;i<=n;i++) {\\n\\n\\t\\tif (c[i]!=c[i-1]) {\\n\\n\\t\\t\\tcnt++;\\n\\n\\t\\t\\tmp[c[i]] = cnt;\\n\\n\\t\\t}\\n\\n\\t}\\n\\n\\tfor (int i=0;i<=cnt;i++) sum[i]=0;\\n\\n\\tlong long res = 0;\\n\\n\\tupdate(mp[0],cnt);\\n\\n\\tfor (int i=1;i<=n;i++) {\\n\\n\\t\\tres += getSum(mp[b[i]]-1);\\n\\n\\t\\tupdate(mp[b[i]],cnt);\\n\\n\\t}\\n\\n\\treturn res;\\n\\n}\\n\\nint main()\\n\\n{\\n\\n\\tscanf(\"%d\",&n);\\n\\n\\tfor (int i=1;i<=n;i++) scanf(\"%d\",&a[i]);\\n\\n\\tfor (int i=1;i<=n;i++) aa[i] = a[i];\\n\\n\\tsort(aa+1,aa+1+n);\\n\\n\\tlong long k = 1LL * n*(n+1)/2/2+1;\\n\\n\\tint l = 1,r = n,mid,ans;\\n\\n\\twhile(l<=r) {\\n\\n\\t\\tmid = (l+r) / 2;\\n\\n\\t\\tif (check(aa[mid])>=k) {\\n\\n\\t\\t\\tans = aa[mid];\\n\\n\\t\\t\\tr = mid - 1;\\n\\n\\t\\t}\\n\\n\\t\\telse l = mid + 1;\\n\\n\\t}\\n\\n\\tprintf(\"%d\\\\n\",ans);\\n\\n}', 'fast_code': '#include <iostream>\\n\\n#include <algorithm>\\n\\n#include <cstdio>\\n\\n#include <cmath>\\n\\n#include <cstring>\\n\\n#define ll long long\\n\\n#define INF 1000000007\\n\\nusing namespace std;\\n\\n\\n\\nconst int MAXN=1e5+5;\\n\\n\\n\\nint n,l,r;\\n\\nll cnt,sum;\\n\\nint a[MAXN],b[MAXN],c[MAXN];\\n\\n\\n\\nvoid work(int begin,int end){\\n\\n\\tif(begin==end)\\n\\n\\t\\treturn;\\n\\n\\tint mid=(begin+end)/2;\\n\\n\\twork(begin,mid);\\n\\n\\twork(mid+1,end);\\n\\n\\tint i=begin,j=mid+1,k=begin;\\n\\n\\twhile(i<=mid && j<=end){\\n\\n\\t\\tif(b[i]<b[j])\\n\\n\\t\\t\\tc[k++]=b[i++];\\n\\n\\t\\telse{\\n\\n\\t\\t\\tcnt+=(i-begin);\\n\\n\\t\\t\\tc[k++]=b[j++];\\n\\n\\t\\t}\\n\\n\\t}\\n\\n\\twhile(i<=mid)\\n\\n\\t\\tc[k++]=b[i++];\\n\\n\\twhile(j<=end){\\n\\n\\t\\tcnt+=(i-begin);\\n\\n\\t\\tc[k++]=b[j++];\\n\\n\\t}\\n\\n\\tfor(int l=begin;l<=end;l++)\\n\\n\\t\\tb[l]=c[l];\\n\\n}\\n\\n\\n\\nbool check(int m){\\n\\n\\tcnt=0;\\n\\n\\tfor(int i=1;i<=n;i++){\\n\\n\\t\\tif(a[i]<=m)\\n\\n\\t\\t\\tb[i]=1;\\n\\n\\t\\telse\\n\\n\\t\\t\\tb[i]=-1;\\n\\n\\t}\\n\\n\\tfor(int i=1;i<=n;i++){\\n\\n\\t\\tb[i]+=b[i-1];\\n\\n\\t}\\n\\n\\twork(0,n);\\n\\n\\tif(cnt>=(sum/2+1))\\n\\n\\t\\treturn true;\\n\\n\\treturn false;\\n\\n}\\n\\n\\n\\nint main(){\\n\\n\\tscanf(\"%d\",&n);\\n\\n\\tl=INF;r=0;sum=0;\\n\\n\\tfor(int i=1;i<=n;i++){\\n\\n\\t\\tscanf(\"%d\",&a[i]);\\n\\n\\t\\tl=min(l,a[i]);\\n\\n\\t\\tr=max(r,a[i]);\\n\\n\\t\\tsum+=i;\\n\\n\\t}\\n\\n\\twhile(l<r){\\n\\n\\t\\tint m=(l+r)/2;\\n\\n\\t\\tif(check(m)){\\n\\n\\t\\t\\tr=m;\\n\\n\\t\\t}else{\\n\\n\\t\\t\\tl=m+1;\\n\\n\\t\\t}\\n\\n\\t}\\n\\n\\tprintf(\"%d\\\\n\",r);\\n\\n\\treturn 0;\\n\\n}\\n\\n\\n'}\n"
     ]
    }
   ],
   "source": [
    "test_dataset_path = \"/largespace/tydata/code_optimization/cpp/dataset/by_user/test_out_pair_in_original.json\"\n",
    "with open(test_dataset_path, 'r') as g:\n",
    "    test_dataset = json.load(g)\n",
    "\n",
    "print(f\"There are {len(test_dataset)} test dataset points.\")\n",
    "print(test_dataset[0])"
   ]
  },
  {
   "cell_type": "code",
   "execution_count": 6,
   "metadata": {},
   "outputs": [],
   "source": [
    "for generate_item, test_item in zip(generates, test_dataset):\n",
    "    test_item[\"may_be_fast\"] = generate_item[\"predict\"]\n",
    "\n",
    "with open(\"/largespace/tydata/code_optimization/cpp/saved_models/pie-gem5-by-user-cpp_deepseekcoder-7b_ft_0418/generate/merge_generates.json\", 'w') as p:\n",
    "    json.dump(test_dataset, p, indent=4)"
   ]
  },
  {
   "cell_type": "code",
   "execution_count": 7,
   "metadata": {},
   "outputs": [],
   "source": [
    "def create_single_problem(result_path, target_path):\n",
    "    with open(result_path, 'r') as f:\n",
    "        dataset = json.load(f)\n",
    "    \n",
    "    for item in dataset:\n",
    "        may_be_fast_code = item[\"may_be_fast\"]\n",
    "        problem_id = item[\"problem_id\"]\n",
    "        user_id = item[\"user_id\"]\n",
    "        slow_submission_id = item[\"slow_submission_id\"]\n",
    "        fast_submission_id = item[\"fast_submission_id\"]\n",
    "        target_file_path = os.path.join(target_path, f\"{problem_id}_{user_id}_{slow_submission_id}_{fast_submission_id}_maybe_faster.cpp\")\n",
    "        with open(target_file_path, \"w\") as g:\n",
    "            g.write(may_be_fast_code)"
   ]
  },
  {
   "cell_type": "code",
   "execution_count": 9,
   "metadata": {},
   "outputs": [],
   "source": [
    "create_single_problem(\n",
    "    result_path=\"/largespace/tydata/code_optimization/cpp/saved_models/pie-gem5-by-user-cpp_deepseekcoder-7b_ft_0418/generate/merge_generates.json\",\n",
    "    target_path=\"/largespace/tydata/code_optimization/cpp/saved_models/pie-gem5-by-user-cpp_deepseekcoder-7b_ft_0418/generate/generate_cpp/\"\n",
    ")"
   ]
  },
  {
   "cell_type": "code",
   "execution_count": 11,
   "metadata": {},
   "outputs": [
    {
     "name": "stdout",
     "output_type": "stream",
     "text": [
      "1199\n"
     ]
    }
   ],
   "source": [
    "import glob\n",
    "path = target_path=\"/largespace/tydata/code_optimization/cpp/saved_models/pie-gem5-by-user-cpp_deepseekcoder-7b_ft_0418/generate/generate_out/\"\n",
    "outs = glob.glob(path+\"*.out\")\n",
    "print(len(outs))"
   ]
  }
 ],
 "metadata": {
  "kernelspec": {
   "display_name": "llama",
   "language": "python",
   "name": "python3"
  },
  "language_info": {
   "codemirror_mode": {
    "name": "ipython",
    "version": 3
   },
   "file_extension": ".py",
   "mimetype": "text/x-python",
   "name": "python",
   "nbconvert_exporter": "python",
   "pygments_lexer": "ipython3",
   "version": "3.10.14"
  }
 },
 "nbformat": 4,
 "nbformat_minor": 2
}
